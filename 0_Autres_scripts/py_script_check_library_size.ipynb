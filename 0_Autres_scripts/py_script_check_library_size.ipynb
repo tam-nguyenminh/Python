{
 "cells": [
  {
   "cell_type": "code",
   "execution_count": 2,
   "metadata": {},
   "outputs": [
    {
     "name": "stdout",
     "output_type": "stream",
     "text": [
      "File Size in Bytes is 4096\n"
     ]
    }
   ],
   "source": [
    "import os\n",
    "# file_path = 'C:/Users/84393/AppData/Local/Programs/Python/Python311/Lib/site-packages'\n",
    "file_path = 'C:/Users/84393/AppData/Local/Programs/Python/Python311'\n",
    "try:\n",
    "    file_size = os.path.getsize(file_path)\n",
    "    print(f\"File Size in Bytes is {file_size}\")\n",
    "except FileNotFoundError:\n",
    "    print(\"File not found.\")\n",
    "except OSError:\n",
    "    print(\"OS error occurred.\")"
   ]
  }
 ],
 "metadata": {
  "kernelspec": {
   "display_name": "Python 3",
   "language": "python",
   "name": "python3"
  },
  "language_info": {
   "codemirror_mode": {
    "name": "ipython",
    "version": 3
   },
   "file_extension": ".py",
   "mimetype": "text/x-python",
   "name": "python",
   "nbconvert_exporter": "python",
   "pygments_lexer": "ipython3",
   "version": "3.11.1"
  },
  "orig_nbformat": 4
 },
 "nbformat": 4,
 "nbformat_minor": 2
}
