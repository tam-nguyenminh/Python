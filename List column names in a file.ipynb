{
 "cells": [
  {
   "cell_type": "code",
   "execution_count": 1,
   "metadata": {},
   "outputs": [
    {
     "name": "stdout",
     "output_type": "stream",
     "text": [
      "CDHDR_MANDANT AS CDHDR_MANDANT2,\n",
      "CDHDR_OBJECTCLAS AS CDHDR_OBJECTCLAS2,\n",
      "CDHDR_OBJECTID AS CDHDR_OBJECTID2,\n",
      "CDHDR_CHANGENR AS CDHDR_CHANGENR2,\n",
      "CDHDR_USERNAME AS CDHDR_USERNAME2,\n",
      "CDHDR_UDATE AS CDHDR_UDATE2,\n",
      "CDHDR_UTIME AS CDHDR_UTIME2,\n",
      "CDHDR_TCODE AS CDHDR_TCODE2,\n",
      "CDHDR_PLANCHNGNR AS CDHDR_PLANCHNGNR2,\n",
      "CDHDR_ACT_CHNGNO AS CDHDR_ACT_CHNGNO2,\n",
      "CDHDR_WAS_PLANND AS CDHDR_WAS_PLANND2,\n",
      "CDHDR_CHANGE_IND AS CDHDR_CHANGE_IND2,\n",
      "CDHDR_LANGU AS CDHDR_LANGU2,\n",
      "CDHDR_VERSION AS CDHDR_VERSION2,\n"
     ]
    }
   ],
   "source": [
    "import csv\n",
    "csvfile = 'C:/1_TAM AUFINIA\\MAZARS/Tables/Tables with Needed Fields/csv/CDHDR.csv'\n",
    "\n",
    "# Import pandas package  \n",
    "import pandas as pd  \n",
    "    \n",
    "# making data frame  \n",
    "data = pd.read_csv(csvfile ,header=0, encoding = 'unicode_escape')  \n",
    "  \n",
    "# iterating the columns \n",
    "for col in data.columns: \n",
    "    print( col + \" AS \" +  col + \"2,\")"
   ]
  },
  {
   "cell_type": "code",
   "execution_count": null,
   "metadata": {},
   "outputs": [],
   "source": []
  }
 ],
 "metadata": {
  "kernelspec": {
   "display_name": "Python 3",
   "language": "python",
   "name": "python3"
  },
  "language_info": {
   "codemirror_mode": {
    "name": "ipython",
    "version": 3
   },
   "file_extension": ".py",
   "mimetype": "text/x-python",
   "name": "python",
   "nbconvert_exporter": "python",
   "pygments_lexer": "ipython3",
   "version": "3.7.3"
  }
 },
 "nbformat": 4,
 "nbformat_minor": 2
}
