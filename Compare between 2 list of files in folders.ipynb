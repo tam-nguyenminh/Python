{
 "cells": [
  {
   "cell_type": "markdown",
   "metadata": {},
   "source": [
    "## Compare between 2 list of files in folders"
   ]
  },
  {
   "cell_type": "code",
   "execution_count": 1,
   "metadata": {},
   "outputs": [],
   "source": [
    "import glob, shutil, os\n",
    "import pandas as pd\n",
    "from datetime import datetime"
   ]
  },
  {
   "cell_type": "code",
   "execution_count": 2,
   "metadata": {},
   "outputs": [],
   "source": [
    "path_src = \"C:/1_TAM AUFINIA/EEI/EEI/1_Original_20190730/\"\n",
    "path_lookup = \"C:/1_TAM AUFINIA/EEI/EEI/List Timesheet/\"\n",
    "\n",
    "source_full = os.listdir(path_src)\n",
    "source_lookup = os.listdir(path_lookup)\n",
    "mdate = datetime.strptime('2019-07-30', '%Y-%m-%d')\n",
    "\n",
    "df_full = pd.DataFrame({'list': source_full, 'Sent date': mdate, 'home' : 1}, index = None)\n",
    "df_lookup = pd.DataFrame({'list': source_lookup, 'timesheet files': source_lookup})"
   ]
  },
  {
   "cell_type": "markdown",
   "metadata": {},
   "source": [
    "## Check last rows of 2 df"
   ]
  },
  {
   "cell_type": "code",
   "execution_count": null,
   "metadata": {},
   "outputs": [],
   "source": [
    "#check discrepancy number of files btw both\n",
    "dif = df_full.shape[0] - df_lookup.shape[0]\n",
    "dif"
   ]
  },
  {
   "cell_type": "markdown",
   "metadata": {},
   "source": [
    "## Merge 2 dataframes - vlookup 2 columns"
   ]
  },
  {
   "cell_type": "code",
   "execution_count": null,
   "metadata": {},
   "outputs": [],
   "source": [
    "#merge can show list of values\n",
    "\n",
    "dfmerge = pd.merge(df_lookup, df_full, on=['list'], how='outer')\n",
    "dfmerge"
   ]
  },
  {
   "cell_type": "markdown",
   "metadata": {},
   "source": [
    "## Filter methods"
   ]
  },
  {
   "cell_type": "code",
   "execution_count": null,
   "metadata": {},
   "outputs": [],
   "source": [
    "#multiple ways to filter\n",
    "#https://www.interviewqs.com/ddi_code_snippets/rows_cols_python\n",
    "\n",
    "#filter_NaN = dfmerge['timesheet files'].isnull()\n",
    "#df_filter = dfmerge[filter_NaN]\n",
    "#df_filter\n",
    "\n",
    "dfmerge.loc[dfmerge['timesheet files'].isnull()]\n",
    "\n",
    "#array = ['NaN', 'green']\n",
    "#df.loc[(df['age'] == 21) & df['favorite_color'].isin(array)]"
   ]
  },
  {
   "cell_type": "markdown",
   "metadata": {},
   "source": [
    "## Check value existince btw 2 columns of 2 dfs"
   ]
  },
  {
   "cell_type": "code",
   "execution_count": null,
   "metadata": {},
   "outputs": [],
   "source": [
    "#show result boolean of comparison\n",
    "df_full['list'].isin(df_lookup['list'])"
   ]
  },
  {
   "cell_type": "markdown",
   "metadata": {},
   "source": [
    "## Split sub-string in string"
   ]
  },
  {
   "cell_type": "code",
   "execution_count": 35,
   "metadata": {},
   "outputs": [],
   "source": [
    "mydf = pd.DataFrame({'list': df_full['list'], })\n",
    "\n",
    "# return position of a substring from a list\n",
    "def getPOS(input):\n",
    "    pos = 0\n",
    "    str_time =['2016','2017','2018','2019']\n",
    "    for x in range(len(str_time)):\n",
    "        if pos < input.find(str_time[x]):\n",
    "            pos = input.find(str_time[x])\n",
    "    return pos\n",
    "\n",
    "# return left substring from a str value in a column of df\n",
    "def getName(input):\n",
    "    return input[0:getPOS(input) + 4]"
   ]
  },
  {
   "cell_type": "code",
   "execution_count": 39,
   "metadata": {},
   "outputs": [
    {
     "data": {
      "text/html": [
       "<div>\n",
       "<style scoped>\n",
       "    .dataframe tbody tr th:only-of-type {\n",
       "        vertical-align: middle;\n",
       "    }\n",
       "\n",
       "    .dataframe tbody tr th {\n",
       "        vertical-align: top;\n",
       "    }\n",
       "\n",
       "    .dataframe thead th {\n",
       "        text-align: right;\n",
       "    }\n",
       "</style>\n",
       "<table border=\"1\" class=\"dataframe\">\n",
       "  <thead>\n",
       "    <tr style=\"text-align: right;\">\n",
       "      <th></th>\n",
       "      <th>list</th>\n",
       "      <th>pos</th>\n",
       "    </tr>\n",
       "  </thead>\n",
       "  <tbody>\n",
       "    <tr>\n",
       "      <th>0</th>\n",
       "      <td>1EASTWOOD_2016_ca6716f6-f645-46ae-bf9f-77b416b...</td>\n",
       "      <td>1EASTWOOD_2016</td>\n",
       "    </tr>\n",
       "    <tr>\n",
       "      <th>1</th>\n",
       "      <td>1EASTWOOD_2017_7ca4c9c8-4fbe-41a2-86ca-ca00e79...</td>\n",
       "      <td>1EASTWOOD_2017</td>\n",
       "    </tr>\n",
       "    <tr>\n",
       "      <th>2</th>\n",
       "      <td>1EASTWOOD_2018_03cfb523-d356-403f-b8a8-a0920e1...</td>\n",
       "      <td>1EASTWOOD_2018</td>\n",
       "    </tr>\n",
       "    <tr>\n",
       "      <th>3</th>\n",
       "      <td>1EASTWOOD_DTR_2016_211bf8a2-e9e7-4e54-bf92-00d...</td>\n",
       "      <td>1EASTWOOD_DTR_2016</td>\n",
       "    </tr>\n",
       "    <tr>\n",
       "      <th>4</th>\n",
       "      <td>1EASTWOOD_DTR_2017_9bb68977-7011-44eb-8e1c-68a...</td>\n",
       "      <td>1EASTWOOD_DTR_2017</td>\n",
       "    </tr>\n",
       "  </tbody>\n",
       "</table>\n",
       "</div>"
      ],
      "text/plain": [
       "                                                list                 pos\n",
       "0  1EASTWOOD_2016_ca6716f6-f645-46ae-bf9f-77b416b...      1EASTWOOD_2016\n",
       "1  1EASTWOOD_2017_7ca4c9c8-4fbe-41a2-86ca-ca00e79...      1EASTWOOD_2017\n",
       "2  1EASTWOOD_2018_03cfb523-d356-403f-b8a8-a0920e1...      1EASTWOOD_2018\n",
       "3  1EASTWOOD_DTR_2016_211bf8a2-e9e7-4e54-bf92-00d...  1EASTWOOD_DTR_2016\n",
       "4  1EASTWOOD_DTR_2017_9bb68977-7011-44eb-8e1c-68a...  1EASTWOOD_DTR_2017"
      ]
     },
     "execution_count": 39,
     "metadata": {},
     "output_type": "execute_result"
    }
   ],
   "source": [
    "mydf['pos'] = mydf['list'].apply(getName)\n",
    "mydf.head(5)"
   ]
  },
  {
   "cell_type": "code",
   "execution_count": null,
   "metadata": {},
   "outputs": [],
   "source": []
  }
 ],
 "metadata": {
  "kernelspec": {
   "display_name": "Python 3",
   "language": "python",
   "name": "python3"
  },
  "language_info": {
   "codemirror_mode": {
    "name": "ipython",
    "version": 3
   },
   "file_extension": ".py",
   "mimetype": "text/x-python",
   "name": "python",
   "nbconvert_exporter": "python",
   "pygments_lexer": "ipython3",
   "version": "3.7.3"
  }
 },
 "nbformat": 4,
 "nbformat_minor": 2
}
